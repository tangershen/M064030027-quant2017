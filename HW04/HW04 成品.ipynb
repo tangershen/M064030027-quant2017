{
 "cells": [
  {
   "cell_type": "markdown",
   "metadata": {},
   "source": [
    "# Q1. 寫一個九九乘法表！"
   ]
  },
  {
   "cell_type": "code",
   "execution_count": 1,
   "metadata": {
    "collapsed": true
   },
   "outputs": [],
   "source": [
    "def multiplication_table(m,n):\n",
    "    i=1\n",
    "    while i<=9:\n",
    "        for j in range (m,n+1):\n",
    "            print(str(j)+\"x\"+str(i)+\"=\"+str(j*i).rjust(2),end='    ')                       \n",
    "            j+=1 \n",
    "        i+=1\n",
    "        print('')\n",
    "    print('-------------------我是分隔線------------------')"
   ]
  },
  {
   "cell_type": "code",
   "execution_count": 2,
   "metadata": {},
   "outputs": [
    {
     "name": "stdout",
     "output_type": "stream",
     "text": [
      "1x1= 1    2x1= 2    3x1= 3    \n",
      "1x2= 2    2x2= 4    3x2= 6    \n",
      "1x3= 3    2x3= 6    3x3= 9    \n",
      "1x4= 4    2x4= 8    3x4=12    \n",
      "1x5= 5    2x5=10    3x5=15    \n",
      "1x6= 6    2x6=12    3x6=18    \n",
      "1x7= 7    2x7=14    3x7=21    \n",
      "1x8= 8    2x8=16    3x8=24    \n",
      "1x9= 9    2x9=18    3x9=27    \n",
      "-------------------我是分隔線------------------\n",
      "4x1= 4    5x1= 5    6x1= 6    \n",
      "4x2= 8    5x2=10    6x2=12    \n",
      "4x3=12    5x3=15    6x3=18    \n",
      "4x4=16    5x4=20    6x4=24    \n",
      "4x5=20    5x5=25    6x5=30    \n",
      "4x6=24    5x6=30    6x6=36    \n",
      "4x7=28    5x7=35    6x7=42    \n",
      "4x8=32    5x8=40    6x8=48    \n",
      "4x9=36    5x9=45    6x9=54    \n",
      "-------------------我是分隔線------------------\n",
      "7x1= 7    8x1= 8    9x1= 9    \n",
      "7x2=14    8x2=16    9x2=18    \n",
      "7x3=21    8x3=24    9x3=27    \n",
      "7x4=28    8x4=32    9x4=36    \n",
      "7x5=35    8x5=40    9x5=45    \n",
      "7x6=42    8x6=48    9x6=54    \n",
      "7x7=49    8x7=56    9x7=63    \n",
      "7x8=56    8x8=64    9x8=72    \n",
      "7x9=63    8x9=72    9x9=81    \n",
      "-------------------我是分隔線------------------\n"
     ]
    }
   ],
   "source": [
    "multiplication_table(1, 3)\n",
    "multiplication_table(4, 6)\n",
    "multiplication_table(7, 9)"
   ]
  },
  {
   "cell_type": "markdown",
   "metadata": {},
   "source": [
    "# Q2. 寫一個可以產生金字塔的函式！"
   ]
  },
  {
   "cell_type": "code",
   "execution_count": 3,
   "metadata": {},
   "outputs": [
    {
     "data": {
      "application/vnd.jupyter.widget-view+json": {
       "model_id": "1423db4774db4cce92e781bbb1cd0cad",
       "version_major": 2,
       "version_minor": 0
      },
      "text/plain": [
       "A Jupyter Widget"
      ]
     },
     "metadata": {},
     "output_type": "display_data"
    },
    {
     "data": {
      "application/vnd.jupyter.widget-view+json": {
       "model_id": "817d5d765ce9484c8ad36c1281dab0b7",
       "version_major": 2,
       "version_minor": 0
      },
      "text/plain": [
       "A Jupyter Widget"
      ]
     },
     "metadata": {},
     "output_type": "display_data"
    },
    {
     "data": {
      "text/plain": [
       "<function __main__.par2>"
      ]
     },
     "execution_count": 3,
     "metadata": {},
     "output_type": "execute_result"
    }
   ],
   "source": [
    "from ipywidgets import interact\n",
    "def par1(k):\n",
    "   \n",
    "    L=0\n",
    "    while L<=k:\n",
    "        print( (k-L)*\" \"+(2*L-1)*(\"*\" ))\n",
    "        \n",
    "        L+=1\n",
    "def par2(k):\n",
    "    \n",
    "    L=0\n",
    "    while L<=k:\n",
    "        print( L*\" \"+(2*k-1-2*L)*(\"*\" ))\n",
    "       \n",
    "        L+=1\n",
    "    \n",
    "interact(par1,  k=(1,20))  \n",
    "interact(par2 , k=(1,20))"
   ]
  },
  {
   "cell_type": "markdown",
   "metadata": {},
   "source": [
    "# Q3. 將 Q1 跟 Q2 的函式寫入一個模組，並呼叫模組裡面的函式來使用。"
   ]
  },
  {
   "cell_type": "code",
   "execution_count": 4,
   "metadata": {
    "collapsed": true
   },
   "outputs": [],
   "source": [
    "import HW04"
   ]
  },
  {
   "cell_type": "code",
   "execution_count": 5,
   "metadata": {},
   "outputs": [
    {
     "name": "stdout",
     "output_type": "stream",
     "text": [
      "1x1= 1    2x1= 2    3x1= 3    \n",
      "1x2= 2    2x2= 4    3x2= 6    \n",
      "1x3= 3    2x3= 6    3x3= 9    \n",
      "1x4= 4    2x4= 8    3x4=12    \n",
      "1x5= 5    2x5=10    3x5=15    \n",
      "1x6= 6    2x6=12    3x6=18    \n",
      "1x7= 7    2x7=14    3x7=21    \n",
      "1x8= 8    2x8=16    3x8=24    \n",
      "1x9= 9    2x9=18    3x9=27    \n",
      "-------------------我是分隔線------------------\n",
      "4x1= 4    5x1= 5    6x1= 6    \n",
      "4x2= 8    5x2=10    6x2=12    \n",
      "4x3=12    5x3=15    6x3=18    \n",
      "4x4=16    5x4=20    6x4=24    \n",
      "4x5=20    5x5=25    6x5=30    \n",
      "4x6=24    5x6=30    6x6=36    \n",
      "4x7=28    5x7=35    6x7=42    \n",
      "4x8=32    5x8=40    6x8=48    \n",
      "4x9=36    5x9=45    6x9=54    \n",
      "-------------------我是分隔線------------------\n",
      "7x1= 7    8x1= 8    9x1= 9    \n",
      "7x2=14    8x2=16    9x2=18    \n",
      "7x3=21    8x3=24    9x3=27    \n",
      "7x4=28    8x4=32    9x4=36    \n",
      "7x5=35    8x5=40    9x5=45    \n",
      "7x6=42    8x6=48    9x6=54    \n",
      "7x7=49    8x7=56    9x7=63    \n",
      "7x8=56    8x8=64    9x8=72    \n",
      "7x9=63    8x9=72    9x9=81    \n",
      "-------------------我是分隔線------------------\n"
     ]
    }
   ],
   "source": [
    "HW04.multiplication_table(1, 3)\n",
    "HW04.multiplication_table(4, 6)\n",
    "HW04.multiplication_table(7, 9)"
   ]
  },
  {
   "cell_type": "code",
   "execution_count": 6,
   "metadata": {
    "scrolled": true
   },
   "outputs": [
    {
     "name": "stdout",
     "output_type": "stream",
     "text": [
      "2x1= 2    3x1= 3    4x1= 4    5x1= 5    \n",
      "2x2= 4    3x2= 6    4x2= 8    5x2=10    \n",
      "2x3= 6    3x3= 9    4x3=12    5x3=15    \n",
      "2x4= 8    3x4=12    4x4=16    5x4=20    \n",
      "2x5=10    3x5=15    4x5=20    5x5=25    \n",
      "2x6=12    3x6=18    4x6=24    5x6=30    \n",
      "2x7=14    3x7=21    4x7=28    5x7=35    \n",
      "2x8=16    3x8=24    4x8=32    5x8=40    \n",
      "2x9=18    3x9=27    4x9=36    5x9=45    \n",
      "-------------------我是分隔線------------------\n",
      "6x1= 6    7x1= 7    8x1= 8    9x1= 9    \n",
      "6x2=12    7x2=14    8x2=16    9x2=18    \n",
      "6x3=18    7x3=21    8x3=24    9x3=27    \n",
      "6x4=24    7x4=28    8x4=32    9x4=36    \n",
      "6x5=30    7x5=35    8x5=40    9x5=45    \n",
      "6x6=36    7x6=42    8x6=48    9x6=54    \n",
      "6x7=42    7x7=49    8x7=56    9x7=63    \n",
      "6x8=48    7x8=56    8x8=64    9x8=72    \n",
      "6x9=54    7x9=63    8x9=72    9x9=81    \n",
      "-------------------我是分隔線------------------\n"
     ]
    }
   ],
   "source": [
    "HW04.multiplication_table(2, 5)\n",
    "HW04.multiplication_table(6, 9)"
   ]
  },
  {
   "cell_type": "code",
   "execution_count": 7,
   "metadata": {},
   "outputs": [
    {
     "name": "stdout",
     "output_type": "stream",
     "text": [
      "     \n",
      "    *\n",
      "   ***\n",
      "  *****\n",
      " *******\n",
      "*********\n"
     ]
    }
   ],
   "source": [
    "HW04.pyramid(5)"
   ]
  }
 ],
 "metadata": {
  "kernelspec": {
   "display_name": "Python 3",
   "language": "python",
   "name": "python3"
  },
  "language_info": {
   "codemirror_mode": {
    "name": "ipython",
    "version": 3
   },
   "file_extension": ".py",
   "mimetype": "text/x-python",
   "name": "python",
   "nbconvert_exporter": "python",
   "pygments_lexer": "ipython3",
   "version": "3.6.2"
  }
 },
 "nbformat": 4,
 "nbformat_minor": 2
}
