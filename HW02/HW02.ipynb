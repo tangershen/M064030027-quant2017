{
 "cells": [
  {
   "cell_type": "code",
   "execution_count": 65,
   "metadata": {},
   "outputs": [
    {
     "name": "stdout",
     "output_type": "stream",
     "text": [
      "Hello world!\n",
      "This is Alice's greeting.\n",
      "This is Bob's greeting.\n",
      "param1 plus secondParam is equal to res\n",
      "foo\n",
      "==========\n",
      " Current working directory isC:\\Users\\tangershen\n",
      "I like to eatapples\n",
      "I like to eatoranges\n",
      "I like to eatcats\n",
      "Count to ten\n",
      "0\n",
      "1\n",
      "2\n",
      "3\n",
      "4\n",
      "5\n",
      "6\n",
      "7\n",
      "8\n",
      "9\n"
     ]
    }
   ],
   "source": [
    "import os  #載入OS模組\n",
    "\n",
    "def main(): # 定義名稱為main的方程式 ,以冒號結束聲明\n",
    "    print ('Hello world!')  #輸出字元  #4格縮排為一般格式\n",
    "    \n",
    "    print(\"This is Alice's greeting.\")  #此處顯示不管是單引號或是雙引號皆可以使用，但是前後要對稱\n",
    "    print('This is Bob\\'s greeting.') #\\為處理句子中引號之問題\n",
    "    \n",
    "    foo(5,10) #方程式參數\n",
    "    \n",
    "    print ('='*10 ) # 跑出'=========='\n",
    "    print (' Current working directory is' + os.getcwd())  #字元相加可以用+號  #利用OS模組\n",
    "    \n",
    "    counter =0\n",
    "    counter +=1   #設定變數初始值以及跳動間距\n",
    "    \n",
    "    food=['apples','oranges','cats']  #list可以包含各種類型，甚至在list裡面可以包含其他list\n",
    "    \n",
    "    for i in food: #for 迴圈起手式 i 為在food list 裡之元素\n",
    "        print ('I like to eat'+i)\n",
    "        \n",
    "    print('Count to ten')\n",
    "    for i in range(10):   #[0,1,2,3,4,5,6,7,8,9]\n",
    "        print(i)\n",
    "        \n",
    "def foo (param1 , secondParam):  \n",
    "    res=param1 + secondParam\n",
    "    \n",
    "   \n",
    "    print('{0} plus {1} is equal to {2}'.format('param1', 'secondParam','res'))\n",
    "    #使用str()將字串輸出\n",
    "          \n",
    "    \n",
    "    if res < 50:\n",
    "          \n",
    "        print('foo')  #迴圈流程控制\n",
    "    elif res<=50 and param1==42 or secondParam ==24 :  # and / or 不用 & | 代替\n",
    "        print('bar')\n",
    "    else: \n",
    "        print ('moo')\n",
    "    return res #This is one-line comment    #return為def所輸出之結果\n",
    "# A multi-line string, but can also be a multi-line comment. #號後面為引述\n",
    "\n",
    "if __name__ == '__main__' :  #當直接運行目前副本main()時，__name__才會等於__main__\n",
    "     main()                      \n",
    "    #當使用副本當作模組導入時，並不會運行main()\n",
    "\n",
    "        \n",
    "        "
   ]
  }
 ],
 "metadata": {
  "kernelspec": {
   "display_name": "Python 3",
   "language": "python",
   "name": "python3"
  },
  "language_info": {
   "codemirror_mode": {
    "name": "ipython",
    "version": 3
   },
   "file_extension": ".py",
   "mimetype": "text/x-python",
   "name": "python",
   "nbconvert_exporter": "python",
   "pygments_lexer": "ipython3",
   "version": "3.6.2"
  }
 },
 "nbformat": 4,
 "nbformat_minor": 2
}
